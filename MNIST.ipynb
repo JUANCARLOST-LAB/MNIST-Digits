{
  "nbformat": 4,
  "nbformat_minor": 0,
  "metadata": {
    "colab": {
      "provenance": [],
      "authorship_tag": "ABX9TyPV+h4afBylXUcAlf9M7XWx",
      "include_colab_link": true
    },
    "kernelspec": {
      "name": "python3",
      "display_name": "Python 3"
    },
    "language_info": {
      "name": "python"
    }
  },
  "cells": [
    {
      "cell_type": "markdown",
      "metadata": {
        "id": "view-in-github",
        "colab_type": "text"
      },
      "source": [
        "<a href=\"https://colab.research.google.com/github/JUANCARLOST-LAB/MNIST-Digits/blob/main/MNIST.ipynb\" target=\"_parent\"><img src=\"https://colab.research.google.com/assets/colab-badge.svg\" alt=\"Open In Colab\"/></a>"
      ]
    },
    {
      "cell_type": "code",
      "execution_count": 2,
      "metadata": {
        "id": "-r8PfcDDR18v"
      },
      "outputs": [],
      "source": [
        "# Import libraries\n",
        "\n",
        "import tensorflow\n",
        "from tensorflow import keras"
      ]
    },
    {
      "cell_type": "code",
      "source": [
        "# Load data\n",
        "\n",
        "(X_train_full, y_train_full), (X_test, y_test) = keras.datasets.mnist.load_data()"
      ],
      "metadata": {
        "colab": {
          "base_uri": "https://localhost:8080/"
        },
        "id": "0JnipCedSPfm",
        "outputId": "e2e776d3-679a-4f5e-a4e0-015eaab90b8f"
      },
      "execution_count": 3,
      "outputs": [
        {
          "output_type": "stream",
          "name": "stdout",
          "text": [
            "Downloading data from https://storage.googleapis.com/tensorflow/tf-keras-datasets/mnist.npz\n",
            "11490434/11490434 [==============================] - 0s 0us/step\n"
          ]
        }
      ]
    },
    {
      "cell_type": "code",
      "source": [
        "# Shape of data\n",
        "X_train_full.shape"
      ],
      "metadata": {
        "colab": {
          "base_uri": "https://localhost:8080/"
        },
        "id": "7CY8aDdNSthp",
        "outputId": "cec0fba5-aaa8-40db-9335-9c2f3d5683da"
      },
      "execution_count": 4,
      "outputs": [
        {
          "output_type": "execute_result",
          "data": {
            "text/plain": [
              "(60000, 28, 28)"
            ]
          },
          "metadata": {},
          "execution_count": 4
        }
      ]
    },
    {
      "cell_type": "code",
      "source": [
        "# Divide train_full into train and validation sets\n",
        "from sklearn.model_selection import train_test_split\n",
        "X_train, X_valid, y_train, y_valid = train_test_split(X_train_full, y_train_full, random_state = 42, stratify = y_train_full)"
      ],
      "metadata": {
        "id": "6BzaqHTkS0ls"
      },
      "execution_count": 5,
      "outputs": []
    },
    {
      "cell_type": "code",
      "source": [
        "# Check values of pixels\n",
        "import numpy as np\n",
        "np.max(X_train[0])"
      ],
      "metadata": {
        "colab": {
          "base_uri": "https://localhost:8080/"
        },
        "id": "X0MtmMbJTJfK",
        "outputId": "df3f531c-adb2-43ea-99e7-725ec30ef7fe"
      },
      "execution_count": 8,
      "outputs": [
        {
          "output_type": "execute_result",
          "data": {
            "text/plain": [
              "254"
            ]
          },
          "metadata": {},
          "execution_count": 8
        }
      ]
    },
    {
      "cell_type": "markdown",
      "source": [
        "We will divide all values by 255 to normaliz"
      ],
      "metadata": {
        "id": "mMcjhaSdTdGw"
      }
    },
    {
      "cell_type": "code",
      "source": [
        "X_train = X_train / 255.0\n",
        "X_test = X_test / 255.0\n",
        "X_valid = X_valid / 255.0"
      ],
      "metadata": {
        "id": "jMnQNnSdTcdn"
      },
      "execution_count": 9,
      "outputs": []
    },
    {
      "cell_type": "code",
      "source": [
        "# Build Neural Network\n",
        "model = keras.models.Sequential([\n",
        "    keras.layers.Flatten(input_shape = [28,28]),\n",
        "    keras.layers.Dense(300, activation=\"relu\"),\n",
        "    keras.layers.Dense(100, activation=\"relu\"),\n",
        "    keras.layers.Dense(10, activation=\"softmax\")\n",
        "])"
      ],
      "metadata": {
        "id": "uzs_ZlRfTm0b"
      },
      "execution_count": 10,
      "outputs": []
    },
    {
      "cell_type": "code",
      "source": [
        "# Compile model\n",
        "model.compile(loss = \"sparse_categorical_crossentropy\", optimizer = \"adam\", metrics = [\"accuracy\"])"
      ],
      "metadata": {
        "id": "cYDDoNrlUUlh"
      },
      "execution_count": 19,
      "outputs": []
    },
    {
      "cell_type": "code",
      "source": [
        "# Fit data into model\n",
        "history = model.fit(X_train, y_train, epochs = 8, validation_data = (X_valid, y_valid))"
      ],
      "metadata": {
        "colab": {
          "base_uri": "https://localhost:8080/"
        },
        "id": "n2148UpxUWp0",
        "outputId": "cec5a832-868b-42c3-f40b-c9dc07ece9c0"
      },
      "execution_count": 21,
      "outputs": [
        {
          "output_type": "stream",
          "name": "stdout",
          "text": [
            "Epoch 1/8\n",
            "1407/1407 [==============================] - 13s 9ms/step - loss: 0.0178 - accuracy: 0.9940 - val_loss: 0.1125 - val_accuracy: 0.9755\n",
            "Epoch 2/8\n",
            "1407/1407 [==============================] - 15s 11ms/step - loss: 0.0142 - accuracy: 0.9957 - val_loss: 0.1090 - val_accuracy: 0.9771\n",
            "Epoch 3/8\n",
            "1407/1407 [==============================] - 20s 14ms/step - loss: 0.0143 - accuracy: 0.9954 - val_loss: 0.1085 - val_accuracy: 0.9769\n",
            "Epoch 4/8\n",
            "1407/1407 [==============================] - 22s 15ms/step - loss: 0.0116 - accuracy: 0.9964 - val_loss: 0.1473 - val_accuracy: 0.9722\n",
            "Epoch 5/8\n",
            "1407/1407 [==============================] - 11s 8ms/step - loss: 0.0170 - accuracy: 0.9949 - val_loss: 0.1239 - val_accuracy: 0.9766\n",
            "Epoch 6/8\n",
            "1407/1407 [==============================] - 9s 6ms/step - loss: 0.0099 - accuracy: 0.9968 - val_loss: 0.1341 - val_accuracy: 0.9765\n",
            "Epoch 7/8\n",
            "1407/1407 [==============================] - 10s 7ms/step - loss: 0.0101 - accuracy: 0.9964 - val_loss: 0.1305 - val_accuracy: 0.9773\n",
            "Epoch 8/8\n",
            "1407/1407 [==============================] - 10s 7ms/step - loss: 0.0121 - accuracy: 0.9963 - val_loss: 0.1245 - val_accuracy: 0.9782\n"
          ]
        }
      ]
    },
    {
      "cell_type": "code",
      "source": [
        "import pandas as pd\n",
        "import matplotlib.pyplot as plt\n",
        "\n",
        "pd.DataFrame(history.history).plot(figsize = (8, 5))\n",
        "plt.grid(True)\n",
        "plt.gca().set_ylim(0, 1)\n",
        "plt.show()"
      ],
      "metadata": {
        "colab": {
          "base_uri": "https://localhost:8080/",
          "height": 451
        },
        "id": "Xb7P4HrAWDYt",
        "outputId": "7d1ca7dd-5f45-44cf-cef4-9dd9a4662cc1"
      },
      "execution_count": 22,
      "outputs": [
        {
          "output_type": "display_data",
          "data": {
            "text/plain": [
              "<Figure size 800x500 with 1 Axes>"
            ],
            "image/png": "[encoded data removed]"
          },
          "metadata": {}
        }
      ]
    },
    {
      "cell_type": "code",
      "source": [
        "acc = model.evaluate(X_test, y_test)\n",
        "print(f'Accuracy over test set: {acc}')"
      ],
      "metadata": {
        "colab": {
          "base_uri": "https://localhost:8080/"
        },
        "id": "c5AbqpqpW0Fe",
        "outputId": "cdbaa9df-b2bc-420c-b7bb-64a082f1e298"
      },
      "execution_count": 23,
      "outputs": [
        {
          "output_type": "stream",
          "name": "stdout",
          "text": [
            "313/313 [==============================] - 1s 3ms/step - loss: 0.1148 - accuracy: 0.9807\n",
            "Accuracy over test set: [0.11483420431613922, 0.9807000160217285]\n"
          ]
        }
      ]
    },
    {
      "cell_type": "markdown",
      "source": [
        "Prediction in 6 images from test set"
      ],
      "metadata": {
        "id": "Qpfwrvg6YzgF"
      }
    },
    {
      "cell_type": "code",
      "source": [
        "import numpy as np\n",
        "\n",
        "X_new = X_test[:6]\n",
        "y_preds = np.argmax(model.predict(X_new), axis = 1)\n",
        "y_preds"
      ],
      "metadata": {
        "colab": {
          "base_uri": "https://localhost:8080/"
        },
        "id": "ilUdbmPAW8gU",
        "outputId": "db9c3a13-c01d-49bc-8a91-f1a4749efaad"
      },
      "execution_count": 46,
      "outputs": [
        {
          "output_type": "stream",
          "name": "stdout",
          "text": [
            "1/1 [==============================] - 0s 38ms/step\n"
          ]
        },
        {
          "output_type": "execute_result",
          "data": {
            "text/plain": [
              "array([7, 2, 1, 0, 4, 1])"
            ]
          },
          "metadata": {},
          "execution_count": 46
        }
      ]
    },
    {
      "cell_type": "code",
      "source": [
        "import matplotlib.pyplot as plt\n",
        "fig, axs = plt.subplots(nrows = 2, ncols = 3, sharex = True, sharey = True, figsize = (15, 10))\n",
        "\n",
        "counter = 0\n",
        "\n",
        "for i in range(3):\n",
        "  for j in range(2):\n",
        "    axs[j, i].imshow(X_new[counter], cmap = 'gray')\n",
        "    axs[j, i].set_title(f'Prediction: {y_preds[counter]}')\n",
        "    counter = counter + 1"
      ],
      "metadata": {
        "colab": {
          "base_uri": "https://localhost:8080/",
          "height": 844
        },
        "id": "GfbJZzJVZLcp",
        "outputId": "1714973c-a2de-4352-ffb5-231f2fbe2c6f"
      },
      "execution_count": 72,
      "outputs": [
        {
          "output_type": "display_data",
          "data": {
            "text/plain": [
              "<Figure size 1500x1000 with 6 Axes>"
            ],
            "image/png": "[encoded data removed]"
          },
          "metadata": {}
        }
      ]
    }
  ]
}